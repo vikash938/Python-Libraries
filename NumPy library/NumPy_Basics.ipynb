{
  "nbformat": 4,
  "nbformat_minor": 0,
  "metadata": {
    "colab": {
      "name": "NumPy Basics.ipynb",
      "provenance": [],
      "collapsed_sections": []
    },
    "kernelspec": {
      "name": "python3",
      "display_name": "Python 3"
    },
    "language_info": {
      "name": "python"
    }
  },
  "cells": [
    {
      "cell_type": "code",
      "metadata": {
        "id": "9Dxi3e-DJRjg"
      },
      "source": [
        "#import library\n",
        "import numpy as np"
      ],
      "execution_count": 1,
      "outputs": []
    },
    {
      "cell_type": "code",
      "metadata": {
        "colab": {
          "base_uri": "https://localhost:8080/"
        },
        "id": "eLAgAjrAWwIu",
        "outputId": "11b99173-95bb-4e9d-f840-fcabb314a483"
      },
      "source": [
        "#The most important object defined in NumPy is an N-dimensional array type called ndarray. It describes the collection of items of the same type. Items in the collection can be accessed using a zero-based index.\n",
        "#Every item in an ndarray takes the same size of block in the memory. Each element in ndarray is an object of data-type object also called as dtype.\n",
        "# One-dimensional array of some prime numbers\n",
        "oneD_array = np.array([2,3,5,7,11])\n",
        "print(oneD_array)\n",
        "oneD_array"
      ],
      "execution_count": 2,
      "outputs": [
        {
          "output_type": "stream",
          "name": "stdout",
          "text": [
            "[ 2  3  5  7 11]\n"
          ]
        },
        {
          "output_type": "execute_result",
          "data": {
            "text/plain": [
              "array([ 2,  3,  5,  7, 11])"
            ]
          },
          "metadata": {},
          "execution_count": 2
        }
      ]
    },
    {
      "cell_type": "code",
      "metadata": {
        "colab": {
          "base_uri": "https://localhost:8080/"
        },
        "id": "gYnMFWQhWwLg",
        "outputId": "acd60739-4309-4104-aa51-8ead862768ac"
      },
      "source": [
        "# to check the type of array\n",
        "type(arr)"
      ],
      "execution_count": 43,
      "outputs": [
        {
          "output_type": "execute_result",
          "data": {
            "text/plain": [
              "numpy.ndarray"
            ]
          },
          "metadata": {},
          "execution_count": 43
        }
      ]
    },
    {
      "cell_type": "code",
      "metadata": {
        "colab": {
          "base_uri": "https://localhost:8080/"
        },
        "id": "WqVf_1CrWwOa",
        "outputId": "b183847a-32d8-495a-e0c1-741f5faaf2ea"
      },
      "source": [
        "#create Two-dimensional array\n",
        "two_D_array = np.array([[4,5],[8,6]])\n",
        "print(two_D_array)\n"
      ],
      "execution_count": 4,
      "outputs": [
        {
          "output_type": "stream",
          "name": "stdout",
          "text": [
            "[[4 5]\n",
            " [8 6]]\n"
          ]
        }
      ]
    },
    {
      "cell_type": "code",
      "metadata": {
        "colab": {
          "base_uri": "https://localhost:8080/"
        },
        "id": "6GU122o2WwRB",
        "outputId": "3f6bb8d1-b5d9-43d1-afb6-347be72957ac"
      },
      "source": [
        "two_D_array"
      ],
      "execution_count": 5,
      "outputs": [
        {
          "output_type": "execute_result",
          "data": {
            "text/plain": [
              "array([[4, 5],\n",
              "       [8, 6]])"
            ]
          },
          "metadata": {},
          "execution_count": 5
        }
      ]
    },
    {
      "cell_type": "code",
      "metadata": {
        "colab": {
          "base_uri": "https://localhost:8080/"
        },
        "id": "3XlPN53UYDhU",
        "outputId": "89ffe1a3-b5c8-4d4a-9635-2de4f58ec829"
      },
      "source": [
        "# Create a three-dimensional array \n",
        "three_D_array = np.array([[[1,2],[3,4]],\n",
        "                        [[5,6],[7,8]]])\n",
        "print(three_D_array)"
      ],
      "execution_count": 6,
      "outputs": [
        {
          "output_type": "stream",
          "name": "stdout",
          "text": [
            "[[[1 2]\n",
            "  [3 4]]\n",
            "\n",
            " [[5 6]\n",
            "  [7 8]]]\n"
          ]
        }
      ]
    },
    {
      "cell_type": "code",
      "metadata": {
        "colab": {
          "base_uri": "https://localhost:8080/"
        },
        "id": "lRfJDjbBYDkr",
        "outputId": "af397108-fe8f-4d84-f3f6-f02c3f0a4b3e"
      },
      "source": [
        "# Create a four-dimensional array\n",
        "fourD_array = np.array([[[[1,2],[3,4]],[[5,6],[7,8]]],\n",
        "          [[[1,2],[3,4]],[[5,6],[7,8]]]])\n",
        "fourD_array\n",
        "\n"
      ],
      "execution_count": 7,
      "outputs": [
        {
          "output_type": "execute_result",
          "data": {
            "text/plain": [
              "array([[[[1, 2],\n",
              "         [3, 4]],\n",
              "\n",
              "        [[5, 6],\n",
              "         [7, 8]]],\n",
              "\n",
              "\n",
              "       [[[1, 2],\n",
              "         [3, 4]],\n",
              "\n",
              "        [[5, 6],\n",
              "         [7, 8]]]])"
            ]
          },
          "metadata": {},
          "execution_count": 7
        }
      ]
    },
    {
      "cell_type": "code",
      "metadata": {
        "colab": {
          "base_uri": "https://localhost:8080/"
        },
        "id": "0Mx2gXMgYDm1",
        "outputId": "a6b878d2-13de-4688-9dd6-a3e29df0ccec"
      },
      "source": [
        "# for Shape use 'ndarray.shape'.This returns a tuple consisting of array dimensions and can be used to resize the array\n",
        "array_1 = np.array([[1,2,3],[4,5,6]]) \n",
        "print(array_1.shape)\n"
      ],
      "execution_count": 8,
      "outputs": [
        {
          "output_type": "stream",
          "name": "stdout",
          "text": [
            "(2, 3)\n"
          ]
        }
      ]
    },
    {
      "cell_type": "code",
      "metadata": {
        "colab": {
          "base_uri": "https://localhost:8080/"
        },
        "id": "it_a1FO2YDp8",
        "outputId": "5f551d93-b79f-4cb4-a22d-cdf9fe3870d2"
      },
      "source": [
        "array_2 = np.array([[[1,2,3],[4,5,6]],\n",
        "                       [[1,2,3],[4,5,6]],\n",
        "                       [[1,2,3],[4,5,6]],\n",
        "                       [[1,2,3],[4,5,6]]]) \n",
        "# print(array_2)\n",
        "print(array_2.shape)"
      ],
      "execution_count": 9,
      "outputs": [
        {
          "output_type": "stream",
          "name": "stdout",
          "text": [
            "(4, 2, 3)\n"
          ]
        }
      ]
    },
    {
      "cell_type": "code",
      "metadata": {
        "colab": {
          "base_uri": "https://localhost:8080/"
        },
        "id": "mls96PE8YDsh",
        "outputId": "bd9160b6-44f1-47f2-adf6-373e81acb892"
      },
      "source": [
        "array_2"
      ],
      "execution_count": 10,
      "outputs": [
        {
          "output_type": "execute_result",
          "data": {
            "text/plain": [
              "array([[[1, 2, 3],\n",
              "        [4, 5, 6]],\n",
              "\n",
              "       [[1, 2, 3],\n",
              "        [4, 5, 6]],\n",
              "\n",
              "       [[1, 2, 3],\n",
              "        [4, 5, 6]],\n",
              "\n",
              "       [[1, 2, 3],\n",
              "        [4, 5, 6]]])"
            ]
          },
          "metadata": {},
          "execution_count": 10
        }
      ]
    },
    {
      "cell_type": "code",
      "metadata": {
        "colab": {
          "base_uri": "https://localhost:8080/"
        },
        "id": "m79ZeDCyYDua",
        "outputId": "2aef5d6a-79aa-4a35-c284-7d020f4db0c9"
      },
      "source": [
        "# for dimension use 'ndarray.dim'.this returns the number of array dimensions\n",
        "oneD_array = np.array([2,3,5,7,11])\n",
        "print(\"Dimensions of 'oneD_array' = \", oneD_array.ndim)\n",
        "\n",
        "\n",
        "twoD_array = np.array([[4,5],[8,6]])\n",
        "print(\"Dimensions of 'twoD_array' = \", twoD_array.ndim)\n",
        "\n",
        "\n",
        "threeD_array = np.array([[[1,2],[3,4]],\n",
        "                        [[5,6],[7,8]]])\n",
        "print(\"Dimensions of 'threeD_array' = \", threeD_array.ndim)\n",
        "\n",
        "\n"
      ],
      "execution_count": 11,
      "outputs": [
        {
          "output_type": "stream",
          "name": "stdout",
          "text": [
            "Dimensions of 'oneD_array' =  1\n",
            "Dimensions of 'twoD_array' =  2\n",
            "Dimensions of 'threeD_array' =  3\n"
          ]
        }
      ]
    },
    {
      "cell_type": "code",
      "metadata": {
        "colab": {
          "base_uri": "https://localhost:8080/"
        },
        "id": "W2ZCvYZacUyX",
        "outputId": "5eb2a736-00b3-453a-d7ce-9b763dfad86e"
      },
      "source": [
        "# For size use 'ndarray.size'. This returns the total number of elements in the array'\n",
        "integers_array = np.array([0,12,4,5,6,76,5,15,45,4,9,8,41])\n",
        "print(f\"The totaln number in our array 'integers_array' = {integers_array.size}\")\n",
        "\n",
        "\n",
        "two_d_array =  np.array([[1,2,3],[4,5,6]])\n",
        "print(f\"The total number of elements in our array two_d_array' =  {two_d_array.size}\")"
      ],
      "execution_count": 21,
      "outputs": [
        {
          "output_type": "stream",
          "name": "stdout",
          "text": [
            "The totaln number in our array 'integers_array' = 13\n",
            "The total number of elements in our array two_d_array' =  6\n"
          ]
        }
      ]
    },
    {
      "cell_type": "code",
      "metadata": {
        "colab": {
          "base_uri": "https://localhost:8080/"
        },
        "id": "S5KREVxdcU00",
        "outputId": "1a65c970-65e2-4a7c-c7b7-a4913a96c5d4"
      },
      "source": [
        "# To check the type of array\n",
        "my_array = np.array([1,2,3,4,5])\n",
        "print(my_array.dtype)"
      ],
      "execution_count": 13,
      "outputs": [
        {
          "output_type": "stream",
          "name": "stdout",
          "text": [
            "int64\n"
          ]
        }
      ]
    },
    {
      "cell_type": "code",
      "metadata": {
        "colab": {
          "base_uri": "https://localhost:8080/"
        },
        "id": "AWNDgtr3cU3S",
        "outputId": "b8880f1a-f58a-49cf-9cf7-0ceb536ac4f9"
      },
      "source": [
        "my_array_1 = np.array([1,2.0,3,4,5,'abc'])\n",
        "print(my_array.dtype)\n",
        "my_Array = np.array(['Jai','shoas','sdf'])\n",
        "print(my_Array.dtype)"
      ],
      "execution_count": 16,
      "outputs": [
        {
          "output_type": "stream",
          "name": "stdout",
          "text": [
            "int64\n",
            "<U5\n"
          ]
        }
      ]
    },
    {
      "cell_type": "code",
      "metadata": {
        "colab": {
          "base_uri": "https://localhost:8080/"
        },
        "id": "9G8wcOdvcU6w",
        "outputId": "b412bf46-45eb-40f9-9648-aa4fd4e433df"
      },
      "source": [
        "my_array_1"
      ],
      "execution_count": 17,
      "outputs": [
        {
          "output_type": "execute_result",
          "data": {
            "text/plain": [
              "array(['1', '2.0', '3', '4', '5', 'abc'], dtype='<U32')"
            ]
          },
          "metadata": {},
          "execution_count": 17
        }
      ]
    },
    {
      "cell_type": "code",
      "metadata": {
        "id": "9jZLVobgWwUl"
      },
      "source": [
        "# changes the data type of an array use 'ndarray.astype'"
      ],
      "execution_count": 18,
      "outputs": []
    },
    {
      "cell_type": "code",
      "metadata": {
        "colab": {
          "base_uri": "https://localhost:8080/"
        },
        "id": "oRS1Ys-tWwbT",
        "outputId": "77020794-69ba-4002-a2c9-c04d16af0d7c"
      },
      "source": [
        "# Create an array\n",
        "arr = np.array([2,3,4])\n",
        "print(arr)\n",
        "print(arr.dtype)\n",
        "# Change the datatype of the array to float\n",
        "arr_ = arr.astype('float64')\n",
        "print(arr_)\n",
        "print(arr_.dtype)"
      ],
      "execution_count": 19,
      "outputs": [
        {
          "output_type": "stream",
          "name": "stdout",
          "text": [
            "[2 3 4]\n",
            "int64\n",
            "[2. 3. 4.]\n",
            "float64\n"
          ]
        }
      ]
    },
    {
      "cell_type": "code",
      "metadata": {
        "id": "c63blVzROcbA"
      },
      "source": [
        ""
      ],
      "execution_count": null,
      "outputs": []
    },
    {
      "cell_type": "markdown",
      "metadata": {
        "id": "QzCCMYXZO978"
      },
      "source": [
        "**Different ways of creating an** **ndarray**"
      ]
    },
    {
      "cell_type": "markdown",
      "metadata": {
        "id": "3nZ6rCDaQF4o"
      },
      "source": [
        "**Uninitialized**"
      ]
    },
    {
      "cell_type": "code",
      "metadata": {
        "colab": {
          "base_uri": "https://localhost:8080/"
        },
        "id": "zBNU7e9POchB",
        "outputId": "b4a8d902-5da5-4663-ccb1-d5c40e84f12b"
      },
      "source": [
        "# Creating an uninitialized array of a specified shape\n",
        "uninitialized_array = np.empty([4,3],dtype=int)\n",
        "print(uninitialized_array)"
      ],
      "execution_count": 22,
      "outputs": [
        {
          "output_type": "stream",
          "name": "stdout",
          "text": [
            "[[ 94483415513536               0            1605]\n",
            " [ 94483393276216 139885059741528  94483393276896]\n",
            " [139885059741528 139885059741528               0]\n",
            " [              2     12884901888              11]]\n"
          ]
        }
      ]
    },
    {
      "cell_type": "markdown",
      "metadata": {
        "id": "SbwAclbtQmW2"
      },
      "source": [
        "**Initialized with zeros**"
      ]
    },
    {
      "cell_type": "code",
      "metadata": {
        "colab": {
          "base_uri": "https://localhost:8080/"
        },
        "id": "K1L-0JYOQoF1",
        "outputId": "f4c95256-3f30-4bd3-ff11-d81ed0d95792"
      },
      "source": [
        "#Creating zero Array\n",
        "zeros_array = np.zeros((3,3)) # Default dtype = float\n",
        "another_zeros_array = np.zeros((4,3) , dtype=int)\n",
        "print(zeros_array)\n",
        "print(another_zeros_array)"
      ],
      "execution_count": 23,
      "outputs": [
        {
          "output_type": "stream",
          "name": "stdout",
          "text": [
            "[[0. 0. 0.]\n",
            " [0. 0. 0.]\n",
            " [0. 0. 0.]]\n",
            "[[0 0 0]\n",
            " [0 0 0]\n",
            " [0 0 0]\n",
            " [0 0 0]]\n"
          ]
        }
      ]
    },
    {
      "cell_type": "markdown",
      "metadata": {
        "id": "g7X76P7BQ5jA"
      },
      "source": [
        "**Initialized with ones**"
      ]
    },
    {
      "cell_type": "code",
      "metadata": {
        "colab": {
          "base_uri": "https://localhost:8080/"
        },
        "id": "vCc3YFb4QoIR",
        "outputId": "6c8c9546-5a04-4613-b55b-eb5db6e18efa"
      },
      "source": [
        "#Creating Ones Array\n",
        "ones_array = np.ones((3,3)) # Default dtype = float\n",
        "another_ones_array = np.ones((2,3) , dtype=int)\n",
        "print(ones_array)\n",
        "print(another_ones_array)"
      ],
      "execution_count": 24,
      "outputs": [
        {
          "output_type": "stream",
          "name": "stdout",
          "text": [
            "[[1. 1. 1.]\n",
            " [1. 1. 1.]\n",
            " [1. 1. 1.]]\n",
            "[[1 1 1]\n",
            " [1 1 1]]\n"
          ]
        }
      ]
    },
    {
      "cell_type": "code",
      "metadata": {
        "colab": {
          "base_uri": "https://localhost:8080/"
        },
        "id": "HLjPHOLLQoKz",
        "outputId": "c5577e2e-6aa8-42ec-8b1a-3737878dad1c"
      },
      "source": [
        "bunch_of_ones = np.ones((4,5))\n",
        "bunch_of_ones"
      ],
      "execution_count": 30,
      "outputs": [
        {
          "output_type": "execute_result",
          "data": {
            "text/plain": [
              "array([[1., 1., 1., 1., 1.],\n",
              "       [1., 1., 1., 1., 1.],\n",
              "       [1., 1., 1., 1., 1.],\n",
              "       [1., 1., 1., 1., 1.]])"
            ]
          },
          "metadata": {},
          "execution_count": 30
        }
      ]
    },
    {
      "cell_type": "code",
      "metadata": {
        "colab": {
          "base_uri": "https://localhost:8080/"
        },
        "id": "t8q2LGsXQoNR",
        "outputId": "a4606ef1-db7c-4a3f-93b2-1e24e443e128"
      },
      "source": [
        "#trying to change the shape of array\n",
        "bunch_of_ones.shape = (2,10)\n",
        "bunch_of_ones"
      ],
      "execution_count": 31,
      "outputs": [
        {
          "output_type": "execute_result",
          "data": {
            "text/plain": [
              "array([[1., 1., 1., 1., 1., 1., 1., 1., 1., 1.],\n",
              "       [1., 1., 1., 1., 1., 1., 1., 1., 1., 1.]])"
            ]
          },
          "metadata": {},
          "execution_count": 31
        }
      ]
    },
    {
      "cell_type": "markdown",
      "metadata": {
        "id": "OGbCuvkoSXHM"
      },
      "source": [
        "**Array from numerical ranges**"
      ]
    },
    {
      "cell_type": "code",
      "metadata": {
        "colab": {
          "base_uri": "https://localhost:8080/"
        },
        "id": "Wa8-1EXrQoPH",
        "outputId": "22cffa3c-5db9-4ba4-f6a5-2417e6c90571"
      },
      "source": [
        "# Array with values from 0 to N\n",
        "array_with_range = np.arange(10)\n",
        "array_with_range"
      ],
      "execution_count": 34,
      "outputs": [
        {
          "output_type": "execute_result",
          "data": {
            "text/plain": [
              "array([0, 1, 2, 3, 4, 5, 6, 7, 8, 9])"
            ]
          },
          "metadata": {},
          "execution_count": 34
        }
      ]
    },
    {
      "cell_type": "code",
      "metadata": {
        "colab": {
          "base_uri": "https://localhost:8080/"
        },
        "id": "RK2VDJQfSxoY",
        "outputId": "7307e5aa-fa2b-4603-d841-6bd7c3944642"
      },
      "source": [
        "# Set start and stop parameters\n",
        "# Parameters for the function - np.arange(start, stop, step, dtype)\n",
        "# Default dtype is that of the input given\n",
        "array_with_range = np.arange(10,30,2) \n",
        "array_with_range"
      ],
      "execution_count": 37,
      "outputs": [
        {
          "output_type": "execute_result",
          "data": {
            "text/plain": [
              "array([10, 12, 14, 16, 18, 20, 22, 24, 26, 28])"
            ]
          },
          "metadata": {},
          "execution_count": 37
        }
      ]
    },
    {
      "cell_type": "code",
      "metadata": {
        "colab": {
          "base_uri": "https://localhost:8080/"
        },
        "id": "HR2WZ4OWSxry",
        "outputId": "4e21a3d9-6099-4a32-8005-30740daacbd2"
      },
      "source": [
        "# to get the number of evenly spaced values between intervals\n",
        "# Parameters for the function - np.linespace(start, stop, num, endpoint, retstep, dtype)\n",
        "# dtype is that of output array\n",
        "linearly_spaced_values = np.linspace(15,30,9, endpoint = False, retstep = True) \n",
        "linearly_spaced_values"
      ],
      "execution_count": 42,
      "outputs": [
        {
          "output_type": "execute_result",
          "data": {
            "text/plain": [
              "(array([15.        , 16.66666667, 18.33333333, 20.        , 21.66666667,\n",
              "        23.33333333, 25.        , 26.66666667, 28.33333333]),\n",
              " 1.6666666666666667)"
            ]
          },
          "metadata": {},
          "execution_count": 42
        }
      ]
    },
    {
      "cell_type": "code",
      "metadata": {
        "id": "gZZHzmfgQoSf"
      },
      "source": [
        ""
      ],
      "execution_count": null,
      "outputs": []
    }
  ]
}